{
 "cells": [
  {
   "cell_type": "code",
   "execution_count": 1,
   "id": "2723e88d",
   "metadata": {},
   "outputs": [],
   "source": [
    "import numpy as np\n",
    "import pandas as pd\n",
    "import matplotlib.pyplot as plt\n",
    "import seaborn as sns\n",
    "%matplotlib inline"
   ]
  },
  {
   "cell_type": "code",
   "execution_count": 2,
   "id": "4a26d2f0",
   "metadata": {},
   "outputs": [],
   "source": [
    "df = pd.read_csv('Dataset/news.csv')"
   ]
  },
  {
   "cell_type": "code",
   "execution_count": 3,
   "id": "2fa553c8",
   "metadata": {},
   "outputs": [
    {
     "data": {
      "text/html": [
       "<div>\n",
       "<style scoped>\n",
       "    .dataframe tbody tr th:only-of-type {\n",
       "        vertical-align: middle;\n",
       "    }\n",
       "\n",
       "    .dataframe tbody tr th {\n",
       "        vertical-align: top;\n",
       "    }\n",
       "\n",
       "    .dataframe thead th {\n",
       "        text-align: right;\n",
       "    }\n",
       "</style>\n",
       "<table border=\"1\" class=\"dataframe\">\n",
       "  <thead>\n",
       "    <tr style=\"text-align: right;\">\n",
       "      <th></th>\n",
       "      <th>Unnamed: 0</th>\n",
       "      <th>title</th>\n",
       "      <th>text</th>\n",
       "      <th>label</th>\n",
       "    </tr>\n",
       "  </thead>\n",
       "  <tbody>\n",
       "    <tr>\n",
       "      <th>0</th>\n",
       "      <td>8476</td>\n",
       "      <td>You Can Smell Hillary’s Fear</td>\n",
       "      <td>Daniel Greenfield, a Shillman Journalism Fello...</td>\n",
       "      <td>FAKE</td>\n",
       "    </tr>\n",
       "    <tr>\n",
       "      <th>1</th>\n",
       "      <td>10294</td>\n",
       "      <td>Watch The Exact Moment Paul Ryan Committed Pol...</td>\n",
       "      <td>Google Pinterest Digg Linkedin Reddit Stumbleu...</td>\n",
       "      <td>FAKE</td>\n",
       "    </tr>\n",
       "    <tr>\n",
       "      <th>2</th>\n",
       "      <td>3608</td>\n",
       "      <td>Kerry to go to Paris in gesture of sympathy</td>\n",
       "      <td>U.S. Secretary of State John F. Kerry said Mon...</td>\n",
       "      <td>REAL</td>\n",
       "    </tr>\n",
       "    <tr>\n",
       "      <th>3</th>\n",
       "      <td>10142</td>\n",
       "      <td>Bernie supporters on Twitter erupt in anger ag...</td>\n",
       "      <td>— Kaydee King (@KaydeeKing) November 9, 2016 T...</td>\n",
       "      <td>FAKE</td>\n",
       "    </tr>\n",
       "    <tr>\n",
       "      <th>4</th>\n",
       "      <td>875</td>\n",
       "      <td>The Battle of New York: Why This Primary Matters</td>\n",
       "      <td>It's primary day in New York and front-runners...</td>\n",
       "      <td>REAL</td>\n",
       "    </tr>\n",
       "  </tbody>\n",
       "</table>\n",
       "</div>"
      ],
      "text/plain": [
       "   Unnamed: 0                                              title  \\\n",
       "0        8476                       You Can Smell Hillary’s Fear   \n",
       "1       10294  Watch The Exact Moment Paul Ryan Committed Pol...   \n",
       "2        3608        Kerry to go to Paris in gesture of sympathy   \n",
       "3       10142  Bernie supporters on Twitter erupt in anger ag...   \n",
       "4         875   The Battle of New York: Why This Primary Matters   \n",
       "\n",
       "                                                text label  \n",
       "0  Daniel Greenfield, a Shillman Journalism Fello...  FAKE  \n",
       "1  Google Pinterest Digg Linkedin Reddit Stumbleu...  FAKE  \n",
       "2  U.S. Secretary of State John F. Kerry said Mon...  REAL  \n",
       "3  — Kaydee King (@KaydeeKing) November 9, 2016 T...  FAKE  \n",
       "4  It's primary day in New York and front-runners...  REAL  "
      ]
     },
     "execution_count": 3,
     "metadata": {},
     "output_type": "execute_result"
    }
   ],
   "source": [
    "df.head()"
   ]
  },
  {
   "cell_type": "code",
   "execution_count": 4,
   "id": "6b3657ef",
   "metadata": {},
   "outputs": [
    {
     "data": {
      "text/plain": [
       "6335"
      ]
     },
     "execution_count": 4,
     "metadata": {},
     "output_type": "execute_result"
    }
   ],
   "source": [
    "len(df)"
   ]
  },
  {
   "cell_type": "code",
   "execution_count": 5,
   "id": "baed5b6b",
   "metadata": {},
   "outputs": [
    {
     "data": {
      "text/plain": [
       "REAL    3171\n",
       "FAKE    3164\n",
       "Name: label, dtype: int64"
      ]
     },
     "execution_count": 5,
     "metadata": {},
     "output_type": "execute_result"
    }
   ],
   "source": [
    "df['label'].value_counts()"
   ]
  },
  {
   "cell_type": "code",
   "execution_count": 6,
   "id": "a91721d8",
   "metadata": {},
   "outputs": [
    {
     "data": {
      "text/plain": [
       "<AxesSubplot:>"
      ]
     },
     "execution_count": 6,
     "metadata": {},
     "output_type": "execute_result"
    },
    {
     "data": {
      "image/png": "[encoded data removed]",
      "text/plain": [
       "<Figure size 432x288 with 2 Axes>"
      ]
     },
     "metadata": {
      "needs_background": "light"
     },
     "output_type": "display_data"
    }
   ],
   "source": [
    "sns.heatmap(df.isna())"
   ]
  },
  {
   "cell_type": "code",
   "execution_count": 7,
   "id": "68929ea2",
   "metadata": {},
   "outputs": [
    {
     "name": "stderr",
     "output_type": "stream",
     "text": [
      "[nltk_data] Downloading package punkt to C:\\Users\\dell\n",
      "[nltk_data]     1\\AppData\\Roaming\\nltk_data...\n",
      "[nltk_data]   Package punkt is already up-to-date!\n",
      "[nltk_data] Downloading package stopwords to C:\\Users\\dell\n",
      "[nltk_data]     1\\AppData\\Roaming\\nltk_data...\n",
      "[nltk_data]   Package stopwords is already up-to-date!\n"
     ]
    }
   ],
   "source": [
    "import re\n",
    "import nltk\n",
    "\n",
    "nltk.download('punkt')\n",
    "nltk.download('stopwords')\n",
    "\n",
    "from nltk.stem import WordNetLemmatizer,PorterStemmer\n",
    "from nltk.corpus import stopwords"
   ]
  },
  {
   "cell_type": "code",
   "execution_count": 9,
   "id": "edce74e0",
   "metadata": {},
   "outputs": [],
   "source": [
    "def text_clean(para):\n",
    "    \n",
    "    sent = nltk.sent_tokenize(para)\n",
    "    wordnet = WordNetLemmatizer()\n",
    "    \n",
    "    for i in range(len(sent)):\n",
    "        string = sent[i]\n",
    "        pre = re.sub('[^a-zA-Z]',' ',string)\n",
    "        pre = pre.lower()\n",
    "        pre = pre.split()\n",
    "        pre = [wordnet.lemmatize(word) for word in pre if word not in stopwords.words('english')]\n",
    "        pre = ' '.join(pre)\n",
    "        \n",
    "        return pre"
   ]
  },
  {
   "cell_type": "code",
   "execution_count": 10,
   "id": "d004cf12",
   "metadata": {},
   "outputs": [],
   "source": [
    "def func(x):\n",
    "    if x =='REAL':\n",
    "        return 1\n",
    "    else:\n",
    "        return 0"
   ]
  },
  {
   "cell_type": "code",
   "execution_count": 11,
   "id": "aa6bae64",
   "metadata": {},
   "outputs": [],
   "source": [
    "def feature_eng(data):\n",
    "    \n",
    "    data['label'] = df['label'].apply(lambda x: func(x))\n",
    "    \n",
    "    data['len_title'] = data['title'].apply(lambda x: len(x))\n",
    "    data['len_text'] = data['text'].apply(lambda x: len(x))\n",
    "    \n",
    "    return data"
   ]
  },
  {
   "cell_type": "code",
   "execution_count": 12,
   "id": "322422d3",
   "metadata": {},
   "outputs": [],
   "source": [
    "df = feature_eng(df)"
   ]
  },
  {
   "cell_type": "code",
   "execution_count": 13,
   "id": "bea8217c",
   "metadata": {},
   "outputs": [
    {
     "data": {
      "text/plain": [
       "<AxesSubplot:xlabel='len_text', ylabel='Count'>"
      ]
     },
     "execution_count": 13,
     "metadata": {},
     "output_type": "execute_result"
    },
    {
     "data": {
      "image/png": "[encoded data removed]",
      "text/plain": [
       "<Figure size 864x576 with 1 Axes>"
      ]
     },
     "metadata": {
      "needs_background": "light"
     },
     "output_type": "display_data"
    }
   ],
   "source": [
    "plt.figure(figsize=(12,8))\n",
    "#df.hist(column='len_text',by='label',bins=50,figsize=(10,4))\n",
    "sns.histplot(x='len_text',hue='label',data=df)"
   ]
  },
  {
   "cell_type": "code",
   "execution_count": 14,
   "id": "f18bf1d9",
   "metadata": {},
   "outputs": [
    {
     "data": {
      "text/plain": [
       "<AxesSubplot:xlabel='len_title', ylabel='Count'>"
      ]
     },
     "execution_count": 14,
     "metadata": {},
     "output_type": "execute_result"
    },
    {
     "data": {
      "image/png": "[encoded data removed]",
      "text/plain": [
       "<Figure size 864x576 with 1 Axes>"
      ]
     },
     "metadata": {
      "needs_background": "light"
     },
     "output_type": "display_data"
    }
   ],
   "source": [
    "plt.figure(figsize=(12,8))\n",
    "sns.histplot(x='len_title',hue='label',data=df)"
   ]
  },
  {
   "cell_type": "code",
   "execution_count": 15,
   "id": "ac719df8",
   "metadata": {},
   "outputs": [
    {
     "name": "stderr",
     "output_type": "stream",
     "text": [
      "<ipython-input-15-ecaaf0770cac>:4: SettingWithCopyWarning: \n",
      "A value is trying to be set on a copy of a slice from a DataFrame\n",
      "\n",
      "See the caveats in the documentation: https://pandas.pydata.org/pandas-docs/stable/user_guide/indexing.html#returning-a-view-versus-a-copy\n",
      "  df['pre_text'][i] = text\n"
     ]
    }
   ],
   "source": [
    "df['pre_text'] = \"NaN\"\n",
    "for i in range(len(df)):\n",
    "    text = text_clean(df['text'][i])\n",
    "    df['pre_text'][i] = text"
   ]
  },
  {
   "cell_type": "code",
   "execution_count": 16,
   "id": "cef85706",
   "metadata": {},
   "outputs": [
    {
     "name": "stderr",
     "output_type": "stream",
     "text": [
      "<ipython-input-16-ae640f107213>:4: SettingWithCopyWarning: \n",
      "A value is trying to be set on a copy of a slice from a DataFrame\n",
      "\n",
      "See the caveats in the documentation: https://pandas.pydata.org/pandas-docs/stable/user_guide/indexing.html#returning-a-view-versus-a-copy\n",
      "  df['pre_title'][i] = title\n"
     ]
    }
   ],
   "source": [
    "df['pre_title'] = \"NaN\"\n",
    "for i in range(len(df)):\n",
    "    title = text_clean(df['title'][i])\n",
    "    df['pre_title'][i] = title"
   ]
  },
  {
   "cell_type": "code",
   "execution_count": 17,
   "id": "6d445e4e",
   "metadata": {},
   "outputs": [
    {
     "data": {
      "text/plain": [
       "<AxesSubplot:>"
      ]
     },
     "execution_count": 17,
     "metadata": {},
     "output_type": "execute_result"
    },
    {
     "data": {
      "image/png": "[encoded data removed]",
      "text/plain": [
       "<Figure size 432x288 with 2 Axes>"
      ]
     },
     "metadata": {
      "needs_background": "light"
     },
     "output_type": "display_data"
    }
   ],
   "source": [
    "sns.heatmap(df.isna())"
   ]
  },
  {
   "cell_type": "code",
   "execution_count": 18,
   "id": "138786b2",
   "metadata": {},
   "outputs": [],
   "source": [
    "df = df.dropna()\n",
    "df = df.reset_index()\n",
    "df = df.drop('index',axis=1)"
   ]
  },
  {
   "cell_type": "code",
   "execution_count": 20,
   "id": "0f226d31",
   "metadata": {},
   "outputs": [],
   "source": [
    "corpus_title = []\n",
    "corpus_text = []\n",
    "\n",
    "for i in range(len(df)):\n",
    "    corpus_text.append(df['pre_text'][i])\n",
    "    corpus_title.append(df['pre_title'][i])\n",
    "\n",
    "df = df.reset_index()\n",
    "df = df.drop('index',axis=1)"
   ]
  },
  {
   "cell_type": "code",
   "execution_count": 21,
   "id": "9dddc395",
   "metadata": {},
   "outputs": [],
   "source": [
    "drop = []\n",
    "for i in range(len(corpus_text)):\n",
    "    if type(corpus_text[i]) != str:\n",
    "        drop.append(i)"
   ]
  },
  {
   "cell_type": "code",
   "execution_count": 22,
   "id": "267c0066",
   "metadata": {},
   "outputs": [],
   "source": [
    "corpus_text = []\n",
    "corpus_title = []\n",
    "\n",
    "for i in range(len(df)):\n",
    "    corpus_text.append(df['pre_text'][i])\n",
    "    corpus_title.append(df['pre_title'][i])"
   ]
  },
  {
   "cell_type": "code",
   "execution_count": 24,
   "id": "687cc7f9",
   "metadata": {},
   "outputs": [],
   "source": [
    "from sklearn.feature_extraction.text import CountVectorizer,TfidfVectorizer"
   ]
  },
  {
   "cell_type": "code",
   "execution_count": 25,
   "id": "258dc415",
   "metadata": {},
   "outputs": [],
   "source": [
    "cv = CountVectorizer()\n",
    "x1 = cv.fit_transform(corpus_title).toarray()\n",
    "\n",
    "cv2 = CountVectorizer()\n",
    "x2 = cv2.fit_transform(corpus_text).toarray()"
   ]
  },
  {
   "cell_type": "code",
   "execution_count": 26,
   "id": "cab8ee8e",
   "metadata": {},
   "outputs": [],
   "source": [
    "df1 = pd.DataFrame(x1,columns=cv.get_feature_names())\n",
    "df2 = pd.DataFrame(x2,columns=cv2.get_feature_names())"
   ]
  },
  {
   "cell_type": "code",
   "execution_count": 28,
   "id": "4338bd85",
   "metadata": {},
   "outputs": [],
   "source": [
    "X = pd.concat([df1,df2,df[['len_title','len_text']]],axis=1)\n",
    "y = df['label']"
   ]
  },
  {
   "cell_type": "code",
   "execution_count": 29,
   "id": "8779cc8e",
   "metadata": {},
   "outputs": [],
   "source": [
    "from sklearn.model_selection import train_test_split\n",
    "X_train,X_test,y_train,y_test = train_test_split(X,y,test_size=0.2,random_state=101)"
   ]
  },
  {
   "cell_type": "code",
   "execution_count": 30,
   "id": "08c55453",
   "metadata": {},
   "outputs": [],
   "source": [
    "from sklearn.metrics import accuracy_score,confusion_matrix,classification_report,f1_score"
   ]
  },
  {
   "cell_type": "code",
   "execution_count": 31,
   "id": "51df88d5",
   "metadata": {},
   "outputs": [],
   "source": [
    "def pred_func(y_test,pred):\n",
    "    print(f1_score(pred,y_test))\n",
    "    print()\n",
    "    print(accuracy_score(pred,y_test))\n",
    "    print()\n",
    "    print(confusion_matrix(pred,y_test))\n",
    "    print()\n",
    "    print(classification_report(pred,y_test))"
   ]
  },
  {
   "cell_type": "code",
   "execution_count": 32,
   "id": "56fe5629",
   "metadata": {},
   "outputs": [
    {
     "name": "stdout",
     "output_type": "stream",
     "text": [
      "0.7455716586151369\n",
      "\n",
      "0.7492063492063492\n",
      "\n",
      "[[481 164]\n",
      " [152 463]]\n",
      "\n",
      "              precision    recall  f1-score   support\n",
      "\n",
      "           0       0.76      0.75      0.75       645\n",
      "           1       0.74      0.75      0.75       615\n",
      "\n",
      "    accuracy                           0.75      1260\n",
      "   macro avg       0.75      0.75      0.75      1260\n",
      "weighted avg       0.75      0.75      0.75      1260\n",
      "\n",
      "None\n"
     ]
    }
   ],
   "source": [
    "from sklearn.naive_bayes import MultinomialNB\n",
    "\n",
    "model = MultinomialNB()\n",
    "model.fit(X_train,y_train)\n",
    "\n",
    "pred = model.predict(X_test)\n",
    "print(pred_func(y_test,pred))"
   ]
  },
  {
   "cell_type": "code",
   "execution_count": 34,
   "id": "13e398c2",
   "metadata": {},
   "outputs": [
    {
     "name": "stdout",
     "output_type": "stream",
     "text": [
      "0.8823993685872138\n",
      "\n",
      "0.8817460317460317\n",
      "\n",
      "[[552  68]\n",
      " [ 81 559]]\n",
      "\n",
      "              precision    recall  f1-score   support\n",
      "\n",
      "           0       0.87      0.89      0.88       620\n",
      "           1       0.89      0.87      0.88       640\n",
      "\n",
      "    accuracy                           0.88      1260\n",
      "   macro avg       0.88      0.88      0.88      1260\n",
      "weighted avg       0.88      0.88      0.88      1260\n",
      "\n",
      "None\n"
     ]
    }
   ],
   "source": [
    "from sklearn.linear_model import LogisticRegression\n",
    "\n",
    "model1 = LogisticRegression(max_iter=1000000000000)\n",
    "model1.fit(X_train,y_train)\n",
    "\n",
    "pred = model1.predict(X_test)\n",
    "print(pred_func(y_test,pred))"
   ]
  },
  {
   "cell_type": "code",
   "execution_count": 35,
   "id": "b81ac130",
   "metadata": {},
   "outputs": [
    {
     "name": "stdout",
     "output_type": "stream",
     "text": [
      "0.8920863309352519\n",
      "\n",
      "0.8928571428571429\n",
      "\n",
      "[[567  69]\n",
      " [ 66 558]]\n",
      "\n",
      "              precision    recall  f1-score   support\n",
      "\n",
      "           0       0.90      0.89      0.89       636\n",
      "           1       0.89      0.89      0.89       624\n",
      "\n",
      "    accuracy                           0.89      1260\n",
      "   macro avg       0.89      0.89      0.89      1260\n",
      "weighted avg       0.89      0.89      0.89      1260\n",
      "\n",
      "None\n"
     ]
    }
   ],
   "source": [
    "from sklearn.ensemble import RandomForestClassifier\n",
    "\n",
    "model2 = RandomForestClassifier(n_estimators=200)\n",
    "model2.fit(X_train,y_train)\n",
    "\n",
    "pred = model2.predict(X_test)\n",
    "print(pred_func(y_test,pred))"
   ]
  },
  {
   "cell_type": "code",
   "execution_count": 36,
   "id": "d1403b8c",
   "metadata": {},
   "outputs": [
    {
     "name": "stdout",
     "output_type": "stream",
     "text": [
      "0.6645468998410174\n",
      "\n",
      "0.4976190476190476\n",
      "\n",
      "[[  0   0]\n",
      " [633 627]]\n",
      "\n",
      "              precision    recall  f1-score   support\n",
      "\n",
      "           0       0.00      0.00      0.00         0\n",
      "           1       1.00      0.50      0.66      1260\n",
      "\n",
      "    accuracy                           0.50      1260\n",
      "   macro avg       0.50      0.25      0.33      1260\n",
      "weighted avg       1.00      0.50      0.66      1260\n",
      "\n",
      "None\n"
     ]
    },
    {
     "name": "stderr",
     "output_type": "stream",
     "text": [
      "c:\\users\\dell 1\\appdata\\local\\programs\\python\\python39\\lib\\site-packages\\sklearn\\metrics\\_classification.py:1248: UndefinedMetricWarning: Recall and F-score are ill-defined and being set to 0.0 in labels with no true samples. Use `zero_division` parameter to control this behavior.\n",
      "  _warn_prf(average, modifier, msg_start, len(result))\n",
      "c:\\users\\dell 1\\appdata\\local\\programs\\python\\python39\\lib\\site-packages\\sklearn\\metrics\\_classification.py:1248: UndefinedMetricWarning: Recall and F-score are ill-defined and being set to 0.0 in labels with no true samples. Use `zero_division` parameter to control this behavior.\n",
      "  _warn_prf(average, modifier, msg_start, len(result))\n",
      "c:\\users\\dell 1\\appdata\\local\\programs\\python\\python39\\lib\\site-packages\\sklearn\\metrics\\_classification.py:1248: UndefinedMetricWarning: Recall and F-score are ill-defined and being set to 0.0 in labels with no true samples. Use `zero_division` parameter to control this behavior.\n",
      "  _warn_prf(average, modifier, msg_start, len(result))\n"
     ]
    }
   ],
   "source": [
    "from sklearn.linear_model import PassiveAggressiveClassifier\n",
    "\n",
    "model3 = PassiveAggressiveClassifier(max_iter=50)\n",
    "model3.fit(X_train,y_train)\n",
    "\n",
    "pred = model3.predict(X_test)\n",
    "print(pred_func(y_test,pred))"
   ]
  }
 ],
 "metadata": {
  "kernelspec": {
   "display_name": "Python 3 (ipykernel)",
   "language": "python",
   "name": "python3"
  },
  "language_info": {
   "codemirror_mode": {
    "name": "ipython",
    "version": 3
   },
   "file_extension": ".py",
   "mimetype": "text/x-python",
   "name": "python",
   "nbconvert_exporter": "python",
   "pygments_lexer": "ipython3",
   "version": "3.9.7"
  }
 },
 "nbformat": 4,
 "nbformat_minor": 5
}
